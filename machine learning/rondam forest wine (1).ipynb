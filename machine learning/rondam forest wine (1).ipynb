{
 "cells": [
  {
   "cell_type": "code",
   "execution_count": null,
   "id": "bfc5df26",
   "metadata": {},
   "outputs": [],
   "source": []
  },
  {
   "cell_type": "code",
   "execution_count": 1,
   "id": "555e7e0a",
   "metadata": {},
   "outputs": [],
   "source": [
    "import pandas as pd\n",
    "import numpy as np"
   ]
  },
  {
   "cell_type": "code",
   "execution_count": 2,
   "id": "113be9b4",
   "metadata": {},
   "outputs": [],
   "source": [
    "data=pd.read_csv(\"D:\\\\Assignments\\\\assignment\\\\wine\\\\wine.csv\")"
   ]
  },
  {
   "cell_type": "code",
   "execution_count": 3,
   "id": "29ff8c5a",
   "metadata": {},
   "outputs": [
    {
     "data": {
      "text/html": [
       "<div>\n",
       "<style scoped>\n",
       "    .dataframe tbody tr th:only-of-type {\n",
       "        vertical-align: middle;\n",
       "    }\n",
       "\n",
       "    .dataframe tbody tr th {\n",
       "        vertical-align: top;\n",
       "    }\n",
       "\n",
       "    .dataframe thead th {\n",
       "        text-align: right;\n",
       "    }\n",
       "</style>\n",
       "<table border=\"1\" class=\"dataframe\">\n",
       "  <thead>\n",
       "    <tr style=\"text-align: right;\">\n",
       "      <th></th>\n",
       "      <th>Wine</th>\n",
       "      <th>Alcohol</th>\n",
       "      <th>Malic.acid</th>\n",
       "      <th>Ash</th>\n",
       "      <th>Acl</th>\n",
       "      <th>Mg</th>\n",
       "      <th>Phenols</th>\n",
       "      <th>Flavanoids</th>\n",
       "      <th>Nonflavanoid.phenols</th>\n",
       "      <th>Proanth</th>\n",
       "      <th>Color.int</th>\n",
       "      <th>Hue</th>\n",
       "      <th>OD</th>\n",
       "      <th>Proline</th>\n",
       "    </tr>\n",
       "  </thead>\n",
       "  <tbody>\n",
       "    <tr>\n",
       "      <th>0</th>\n",
       "      <td>1</td>\n",
       "      <td>14.23</td>\n",
       "      <td>1.71</td>\n",
       "      <td>2.43</td>\n",
       "      <td>15.6</td>\n",
       "      <td>127</td>\n",
       "      <td>2.80</td>\n",
       "      <td>3.06</td>\n",
       "      <td>0.28</td>\n",
       "      <td>2.29</td>\n",
       "      <td>5.64</td>\n",
       "      <td>1.04</td>\n",
       "      <td>3.92</td>\n",
       "      <td>1065</td>\n",
       "    </tr>\n",
       "    <tr>\n",
       "      <th>1</th>\n",
       "      <td>1</td>\n",
       "      <td>13.20</td>\n",
       "      <td>1.78</td>\n",
       "      <td>2.14</td>\n",
       "      <td>11.2</td>\n",
       "      <td>100</td>\n",
       "      <td>2.65</td>\n",
       "      <td>2.76</td>\n",
       "      <td>0.26</td>\n",
       "      <td>1.28</td>\n",
       "      <td>4.38</td>\n",
       "      <td>1.05</td>\n",
       "      <td>3.40</td>\n",
       "      <td>1050</td>\n",
       "    </tr>\n",
       "    <tr>\n",
       "      <th>2</th>\n",
       "      <td>1</td>\n",
       "      <td>13.16</td>\n",
       "      <td>2.36</td>\n",
       "      <td>2.67</td>\n",
       "      <td>18.6</td>\n",
       "      <td>101</td>\n",
       "      <td>2.80</td>\n",
       "      <td>3.24</td>\n",
       "      <td>0.30</td>\n",
       "      <td>2.81</td>\n",
       "      <td>5.68</td>\n",
       "      <td>1.03</td>\n",
       "      <td>3.17</td>\n",
       "      <td>1185</td>\n",
       "    </tr>\n",
       "    <tr>\n",
       "      <th>3</th>\n",
       "      <td>1</td>\n",
       "      <td>14.37</td>\n",
       "      <td>1.95</td>\n",
       "      <td>2.50</td>\n",
       "      <td>16.8</td>\n",
       "      <td>113</td>\n",
       "      <td>3.85</td>\n",
       "      <td>3.49</td>\n",
       "      <td>0.24</td>\n",
       "      <td>2.18</td>\n",
       "      <td>7.80</td>\n",
       "      <td>0.86</td>\n",
       "      <td>3.45</td>\n",
       "      <td>1480</td>\n",
       "    </tr>\n",
       "    <tr>\n",
       "      <th>4</th>\n",
       "      <td>1</td>\n",
       "      <td>13.24</td>\n",
       "      <td>2.59</td>\n",
       "      <td>2.87</td>\n",
       "      <td>21.0</td>\n",
       "      <td>118</td>\n",
       "      <td>2.80</td>\n",
       "      <td>2.69</td>\n",
       "      <td>0.39</td>\n",
       "      <td>1.82</td>\n",
       "      <td>4.32</td>\n",
       "      <td>1.04</td>\n",
       "      <td>2.93</td>\n",
       "      <td>735</td>\n",
       "    </tr>\n",
       "  </tbody>\n",
       "</table>\n",
       "</div>"
      ],
      "text/plain": [
       "   Wine  Alcohol  Malic.acid   Ash   Acl   Mg  Phenols  Flavanoids  \\\n",
       "0     1    14.23        1.71  2.43  15.6  127     2.80        3.06   \n",
       "1     1    13.20        1.78  2.14  11.2  100     2.65        2.76   \n",
       "2     1    13.16        2.36  2.67  18.6  101     2.80        3.24   \n",
       "3     1    14.37        1.95  2.50  16.8  113     3.85        3.49   \n",
       "4     1    13.24        2.59  2.87  21.0  118     2.80        2.69   \n",
       "\n",
       "   Nonflavanoid.phenols  Proanth  Color.int   Hue    OD  Proline  \n",
       "0                  0.28     2.29       5.64  1.04  3.92     1065  \n",
       "1                  0.26     1.28       4.38  1.05  3.40     1050  \n",
       "2                  0.30     2.81       5.68  1.03  3.17     1185  \n",
       "3                  0.24     2.18       7.80  0.86  3.45     1480  \n",
       "4                  0.39     1.82       4.32  1.04  2.93      735  "
      ]
     },
     "execution_count": 3,
     "metadata": {},
     "output_type": "execute_result"
    }
   ],
   "source": [
    "data.head()"
   ]
  },
  {
   "cell_type": "markdown",
   "id": "a599e3af",
   "metadata": {},
   "source": [
    "$$creating- train- and -test- data -sets$$"
   ]
  },
  {
   "cell_type": "code",
   "execution_count": 10,
   "id": "ea669bd4",
   "metadata": {},
   "outputs": [
    {
     "data": {
      "text/html": [
       "<div>\n",
       "<style scoped>\n",
       "    .dataframe tbody tr th:only-of-type {\n",
       "        vertical-align: middle;\n",
       "    }\n",
       "\n",
       "    .dataframe tbody tr th {\n",
       "        vertical-align: top;\n",
       "    }\n",
       "\n",
       "    .dataframe thead th {\n",
       "        text-align: right;\n",
       "    }\n",
       "</style>\n",
       "<table border=\"1\" class=\"dataframe\">\n",
       "  <thead>\n",
       "    <tr style=\"text-align: right;\">\n",
       "      <th></th>\n",
       "      <th>Alcohol</th>\n",
       "      <th>Malic.acid</th>\n",
       "      <th>Ash</th>\n",
       "      <th>Acl</th>\n",
       "      <th>Mg</th>\n",
       "      <th>Phenols</th>\n",
       "      <th>Flavanoids</th>\n",
       "      <th>Nonflavanoid.phenols</th>\n",
       "      <th>Proanth</th>\n",
       "      <th>Color.int</th>\n",
       "      <th>Hue</th>\n",
       "      <th>OD</th>\n",
       "      <th>Proline</th>\n",
       "    </tr>\n",
       "  </thead>\n",
       "  <tbody>\n",
       "    <tr>\n",
       "      <th>0</th>\n",
       "      <td>14.23</td>\n",
       "      <td>1.71</td>\n",
       "      <td>2.43</td>\n",
       "      <td>15.6</td>\n",
       "      <td>127</td>\n",
       "      <td>2.80</td>\n",
       "      <td>3.06</td>\n",
       "      <td>0.28</td>\n",
       "      <td>2.29</td>\n",
       "      <td>5.64</td>\n",
       "      <td>1.04</td>\n",
       "      <td>3.92</td>\n",
       "      <td>1065</td>\n",
       "    </tr>\n",
       "    <tr>\n",
       "      <th>1</th>\n",
       "      <td>13.20</td>\n",
       "      <td>1.78</td>\n",
       "      <td>2.14</td>\n",
       "      <td>11.2</td>\n",
       "      <td>100</td>\n",
       "      <td>2.65</td>\n",
       "      <td>2.76</td>\n",
       "      <td>0.26</td>\n",
       "      <td>1.28</td>\n",
       "      <td>4.38</td>\n",
       "      <td>1.05</td>\n",
       "      <td>3.40</td>\n",
       "      <td>1050</td>\n",
       "    </tr>\n",
       "    <tr>\n",
       "      <th>2</th>\n",
       "      <td>13.16</td>\n",
       "      <td>2.36</td>\n",
       "      <td>2.67</td>\n",
       "      <td>18.6</td>\n",
       "      <td>101</td>\n",
       "      <td>2.80</td>\n",
       "      <td>3.24</td>\n",
       "      <td>0.30</td>\n",
       "      <td>2.81</td>\n",
       "      <td>5.68</td>\n",
       "      <td>1.03</td>\n",
       "      <td>3.17</td>\n",
       "      <td>1185</td>\n",
       "    </tr>\n",
       "    <tr>\n",
       "      <th>3</th>\n",
       "      <td>14.37</td>\n",
       "      <td>1.95</td>\n",
       "      <td>2.50</td>\n",
       "      <td>16.8</td>\n",
       "      <td>113</td>\n",
       "      <td>3.85</td>\n",
       "      <td>3.49</td>\n",
       "      <td>0.24</td>\n",
       "      <td>2.18</td>\n",
       "      <td>7.80</td>\n",
       "      <td>0.86</td>\n",
       "      <td>3.45</td>\n",
       "      <td>1480</td>\n",
       "    </tr>\n",
       "    <tr>\n",
       "      <th>4</th>\n",
       "      <td>13.24</td>\n",
       "      <td>2.59</td>\n",
       "      <td>2.87</td>\n",
       "      <td>21.0</td>\n",
       "      <td>118</td>\n",
       "      <td>2.80</td>\n",
       "      <td>2.69</td>\n",
       "      <td>0.39</td>\n",
       "      <td>1.82</td>\n",
       "      <td>4.32</td>\n",
       "      <td>1.04</td>\n",
       "      <td>2.93</td>\n",
       "      <td>735</td>\n",
       "    </tr>\n",
       "  </tbody>\n",
       "</table>\n",
       "</div>"
      ],
      "text/plain": [
       "   Alcohol  Malic.acid   Ash   Acl   Mg  Phenols  Flavanoids  \\\n",
       "0    14.23        1.71  2.43  15.6  127     2.80        3.06   \n",
       "1    13.20        1.78  2.14  11.2  100     2.65        2.76   \n",
       "2    13.16        2.36  2.67  18.6  101     2.80        3.24   \n",
       "3    14.37        1.95  2.50  16.8  113     3.85        3.49   \n",
       "4    13.24        2.59  2.87  21.0  118     2.80        2.69   \n",
       "\n",
       "   Nonflavanoid.phenols  Proanth  Color.int   Hue    OD  Proline  \n",
       "0                  0.28     2.29       5.64  1.04  3.92     1065  \n",
       "1                  0.26     1.28       4.38  1.05  3.40     1050  \n",
       "2                  0.30     2.81       5.68  1.03  3.17     1185  \n",
       "3                  0.24     2.18       7.80  0.86  3.45     1480  \n",
       "4                  0.39     1.82       4.32  1.04  2.93      735  "
      ]
     },
     "execution_count": 10,
     "metadata": {},
     "output_type": "execute_result"
    }
   ],
   "source": [
    "x=data.iloc[:,1:]\n",
    "x.head()"
   ]
  },
  {
   "cell_type": "code",
   "execution_count": 8,
   "id": "e9315d15",
   "metadata": {},
   "outputs": [],
   "source": [
    "y=data.iloc[:,0]"
   ]
  },
  {
   "cell_type": "code",
   "execution_count": 11,
   "id": "f64ca165",
   "metadata": {},
   "outputs": [
    {
     "data": {
      "text/plain": [
       "0    1\n",
       "1    1\n",
       "2    1\n",
       "3    1\n",
       "4    1\n",
       "Name: Wine, dtype: int64"
      ]
     },
     "execution_count": 11,
     "metadata": {},
     "output_type": "execute_result"
    }
   ],
   "source": [
    "y.head()"
   ]
  },
  {
   "cell_type": "code",
   "execution_count": 12,
   "id": "d5f6878e",
   "metadata": {},
   "outputs": [],
   "source": [
    "from sklearn.model_selection import train_test_split\n",
    "x_train,x_test,y_train,y_test=train_test_split(x,y,test_size=.3,random_state=1)"
   ]
  },
  {
   "cell_type": "code",
   "execution_count": 14,
   "id": "c7b077b3",
   "metadata": {},
   "outputs": [
    {
     "name": "stdout",
     "output_type": "stream",
     "text": [
      "(124, 13)\n",
      "(54, 13)\n"
     ]
    }
   ],
   "source": [
    "print(x_train.shape)\n",
    "print(x_test.shape)"
   ]
  },
  {
   "cell_type": "markdown",
   "id": "ae7a2f5f",
   "metadata": {},
   "source": [
    "$$creating random forest$$"
   ]
  },
  {
   "cell_type": "markdown",
   "id": "3426232b",
   "metadata": {},
   "source": [
    "# cheaking the feature slection#"
   ]
  },
  {
   "cell_type": "code",
   "execution_count": 17,
   "id": "97825819",
   "metadata": {},
   "outputs": [],
   "source": [
    "from sklearn.feature_selection import SelectKBest,chi2,f_classif"
   ]
  },
  {
   "cell_type": "code",
   "execution_count": 25,
   "id": "b0003c0b",
   "metadata": {},
   "outputs": [],
   "source": [
    "x=data.iloc[:,1:].values\n",
    "y=data.iloc[:,0].values"
   ]
  },
  {
   "cell_type": "code",
   "execution_count": 26,
   "id": "4a819ea6",
   "metadata": {},
   "outputs": [],
   "source": [
    "fs=SelectKBest(chi2,k=6)"
   ]
  },
  {
   "cell_type": "code",
   "execution_count": 27,
   "id": "2dcca53a",
   "metadata": {},
   "outputs": [],
   "source": [
    "Feature_best=fs.fit_transform(x,y)"
   ]
  },
  {
   "cell_type": "code",
   "execution_count": 29,
   "id": "835d2b75",
   "metadata": {},
   "outputs": [
    {
     "data": {
      "text/plain": [
       "array([[1.710e+00, 1.560e+01, 1.270e+02, 3.060e+00, 5.640e+00, 1.065e+03],\n",
       "       [1.780e+00, 1.120e+01, 1.000e+02, 2.760e+00, 4.380e+00, 1.050e+03],\n",
       "       [2.360e+00, 1.860e+01, 1.010e+02, 3.240e+00, 5.680e+00, 1.185e+03],\n",
       "       ...,\n",
       "       [4.280e+00, 2.000e+01, 1.200e+02, 6.900e-01, 1.020e+01, 8.350e+02],\n",
       "       [2.590e+00, 2.000e+01, 1.200e+02, 6.800e-01, 9.300e+00, 8.400e+02],\n",
       "       [4.100e+00, 2.450e+01, 9.600e+01, 7.600e-01, 9.200e+00, 5.600e+02]])"
      ]
     },
     "execution_count": 29,
     "metadata": {},
     "output_type": "execute_result"
    }
   ],
   "source": [
    "Feature_best"
   ]
  },
  {
   "cell_type": "code",
   "execution_count": 30,
   "id": "3ea17ae1",
   "metadata": {},
   "outputs": [],
   "source": [
    "fsf=SelectKBest(f_classif,k=4)"
   ]
  },
  {
   "cell_type": "code",
   "execution_count": 31,
   "id": "dfa839c0",
   "metadata": {},
   "outputs": [
    {
     "data": {
      "text/plain": [
       "array([[1.423e+01, 3.060e+00, 3.920e+00, 1.065e+03],\n",
       "       [1.320e+01, 2.760e+00, 3.400e+00, 1.050e+03],\n",
       "       [1.316e+01, 3.240e+00, 3.170e+00, 1.185e+03],\n",
       "       [1.437e+01, 3.490e+00, 3.450e+00, 1.480e+03],\n",
       "       [1.324e+01, 2.690e+00, 2.930e+00, 7.350e+02],\n",
       "       [1.420e+01, 3.390e+00, 2.850e+00, 1.450e+03],\n",
       "       [1.439e+01, 2.520e+00, 3.580e+00, 1.290e+03],\n",
       "       [1.406e+01, 2.510e+00, 3.580e+00, 1.295e+03],\n",
       "       [1.483e+01, 2.980e+00, 2.850e+00, 1.045e+03],\n",
       "       [1.386e+01, 3.150e+00, 3.550e+00, 1.045e+03],\n",
       "       [1.410e+01, 3.320e+00, 3.170e+00, 1.510e+03],\n",
       "       [1.412e+01, 2.430e+00, 2.820e+00, 1.280e+03],\n",
       "       [1.375e+01, 2.760e+00, 2.900e+00, 1.320e+03],\n",
       "       [1.475e+01, 3.690e+00, 2.730e+00, 1.150e+03],\n",
       "       [1.438e+01, 3.640e+00, 3.000e+00, 1.547e+03],\n",
       "       [1.363e+01, 2.910e+00, 2.880e+00, 1.310e+03],\n",
       "       [1.430e+01, 3.140e+00, 2.650e+00, 1.280e+03],\n",
       "       [1.383e+01, 3.400e+00, 2.570e+00, 1.130e+03],\n",
       "       [1.419e+01, 3.930e+00, 2.820e+00, 1.680e+03],\n",
       "       [1.364e+01, 3.030e+00, 3.360e+00, 8.450e+02],\n",
       "       [1.406e+01, 3.170e+00, 3.710e+00, 7.800e+02],\n",
       "       [1.293e+01, 2.410e+00, 3.520e+00, 7.700e+02],\n",
       "       [1.371e+01, 2.880e+00, 4.000e+00, 1.035e+03],\n",
       "       [1.285e+01, 2.370e+00, 3.630e+00, 1.015e+03],\n",
       "       [1.350e+01, 2.610e+00, 3.820e+00, 8.450e+02],\n",
       "       [1.305e+01, 2.680e+00, 3.200e+00, 8.300e+02],\n",
       "       [1.339e+01, 2.940e+00, 3.220e+00, 1.195e+03],\n",
       "       [1.330e+01, 2.190e+00, 2.770e+00, 1.285e+03],\n",
       "       [1.387e+01, 2.970e+00, 3.400e+00, 9.150e+02],\n",
       "       [1.402e+01, 2.330e+00, 3.590e+00, 1.035e+03],\n",
       "       [1.373e+01, 3.250e+00, 2.710e+00, 1.285e+03],\n",
       "       [1.358e+01, 3.190e+00, 2.880e+00, 1.515e+03],\n",
       "       [1.368e+01, 2.690e+00, 2.870e+00, 9.900e+02],\n",
       "       [1.376e+01, 2.740e+00, 3.000e+00, 1.235e+03],\n",
       "       [1.351e+01, 2.530e+00, 2.870e+00, 1.095e+03],\n",
       "       [1.348e+01, 2.980e+00, 3.470e+00, 9.200e+02],\n",
       "       [1.328e+01, 2.680e+00, 2.780e+00, 8.800e+02],\n",
       "       [1.305e+01, 2.430e+00, 2.510e+00, 1.105e+03],\n",
       "       [1.307e+01, 2.640e+00, 2.690e+00, 1.020e+03],\n",
       "       [1.422e+01, 3.040e+00, 3.530e+00, 7.600e+02],\n",
       "       [1.356e+01, 3.290e+00, 3.380e+00, 7.950e+02],\n",
       "       [1.341e+01, 2.680e+00, 3.000e+00, 1.035e+03],\n",
       "       [1.388e+01, 3.560e+00, 3.560e+00, 1.095e+03],\n",
       "       [1.324e+01, 2.630e+00, 3.000e+00, 6.800e+02],\n",
       "       [1.305e+01, 3.000e+00, 3.350e+00, 8.850e+02],\n",
       "       [1.421e+01, 2.650e+00, 3.330e+00, 1.080e+03],\n",
       "       [1.438e+01, 3.170e+00, 3.440e+00, 1.065e+03],\n",
       "       [1.390e+01, 3.390e+00, 3.330e+00, 9.850e+02],\n",
       "       [1.410e+01, 2.920e+00, 2.750e+00, 1.060e+03],\n",
       "       [1.394e+01, 3.540e+00, 3.100e+00, 1.260e+03],\n",
       "       [1.305e+01, 3.270e+00, 2.910e+00, 1.150e+03],\n",
       "       [1.383e+01, 2.990e+00, 3.370e+00, 1.265e+03],\n",
       "       [1.382e+01, 3.740e+00, 3.260e+00, 1.190e+03],\n",
       "       [1.377e+01, 2.790e+00, 2.930e+00, 1.375e+03],\n",
       "       [1.374e+01, 2.900e+00, 3.200e+00, 1.060e+03],\n",
       "       [1.356e+01, 2.780e+00, 3.030e+00, 1.120e+03],\n",
       "       [1.422e+01, 3.000e+00, 3.310e+00, 9.700e+02],\n",
       "       [1.329e+01, 3.230e+00, 2.840e+00, 1.270e+03],\n",
       "       [1.372e+01, 3.670e+00, 2.870e+00, 1.285e+03],\n",
       "       [1.237e+01, 5.700e-01, 1.820e+00, 5.200e+02],\n",
       "       [1.233e+01, 1.090e+00, 1.670e+00, 6.800e+02],\n",
       "       [1.264e+01, 1.410e+00, 1.590e+00, 4.500e+02],\n",
       "       [1.367e+01, 1.790e+00, 2.460e+00, 6.300e+02],\n",
       "       [1.237e+01, 3.100e+00, 2.870e+00, 4.200e+02],\n",
       "       [1.217e+01, 1.750e+00, 2.230e+00, 3.550e+02],\n",
       "       [1.237e+01, 2.650e+00, 2.300e+00, 6.780e+02],\n",
       "       [1.311e+01, 3.180e+00, 3.180e+00, 5.020e+02],\n",
       "       [1.237e+01, 2.000e+00, 3.480e+00, 5.100e+02],\n",
       "       [1.334e+01, 1.300e+00, 1.930e+00, 7.500e+02],\n",
       "       [1.221e+01, 1.280e+00, 3.070e+00, 7.180e+02],\n",
       "       [1.229e+01, 1.020e+00, 1.820e+00, 8.700e+02],\n",
       "       [1.386e+01, 2.860e+00, 3.160e+00, 4.100e+02],\n",
       "       [1.349e+01, 1.840e+00, 2.780e+00, 4.720e+02],\n",
       "       [1.299e+01, 2.890e+00, 3.500e+00, 9.850e+02],\n",
       "       [1.196e+01, 2.140e+00, 3.130e+00, 8.860e+02],\n",
       "       [1.166e+01, 1.570e+00, 2.140e+00, 4.280e+02],\n",
       "       [1.303e+01, 2.030e+00, 2.480e+00, 3.920e+02],\n",
       "       [1.184e+01, 1.320e+00, 2.520e+00, 5.000e+02],\n",
       "       [1.233e+01, 1.850e+00, 2.310e+00, 7.500e+02],\n",
       "       [1.270e+01, 2.550e+00, 3.130e+00, 4.630e+02],\n",
       "       [1.200e+01, 2.260e+00, 3.120e+00, 2.780e+02],\n",
       "       [1.272e+01, 2.530e+00, 3.140e+00, 7.140e+02],\n",
       "       [1.208e+01, 1.580e+00, 2.720e+00, 6.300e+02],\n",
       "       [1.305e+01, 1.590e+00, 2.010e+00, 5.150e+02],\n",
       "       [1.184e+01, 2.210e+00, 3.080e+00, 5.200e+02],\n",
       "       [1.267e+01, 1.940e+00, 3.160e+00, 4.500e+02],\n",
       "       [1.216e+01, 1.690e+00, 2.260e+00, 4.950e+02],\n",
       "       [1.165e+01, 1.610e+00, 3.210e+00, 5.620e+02],\n",
       "       [1.164e+01, 1.690e+00, 2.750e+00, 6.800e+02],\n",
       "       [1.208e+01, 1.590e+00, 3.210e+00, 6.250e+02],\n",
       "       [1.208e+01, 1.500e+00, 2.270e+00, 4.800e+02],\n",
       "       [1.200e+01, 1.250e+00, 2.650e+00, 4.500e+02],\n",
       "       [1.269e+01, 1.460e+00, 2.060e+00, 4.950e+02],\n",
       "       [1.229e+01, 2.250e+00, 3.300e+00, 2.900e+02],\n",
       "       [1.162e+01, 2.260e+00, 2.960e+00, 3.450e+02],\n",
       "       [1.247e+01, 2.270e+00, 2.630e+00, 9.370e+02],\n",
       "       [1.181e+01, 9.900e-01, 2.260e+00, 6.250e+02],\n",
       "       [1.229e+01, 2.500e+00, 2.740e+00, 4.280e+02],\n",
       "       [1.237e+01, 3.750e+00, 2.770e+00, 6.600e+02],\n",
       "       [1.229e+01, 2.990e+00, 2.830e+00, 4.060e+02],\n",
       "       [1.208e+01, 2.170e+00, 2.960e+00, 7.100e+02],\n",
       "       [1.260e+01, 1.360e+00, 2.770e+00, 5.620e+02],\n",
       "       [1.234e+01, 2.110e+00, 3.380e+00, 4.380e+02],\n",
       "       [1.182e+01, 1.640e+00, 2.440e+00, 4.150e+02],\n",
       "       [1.251e+01, 1.920e+00, 3.570e+00, 6.720e+02],\n",
       "       [1.242e+01, 1.840e+00, 3.300e+00, 3.150e+02],\n",
       "       [1.225e+01, 2.030e+00, 3.170e+00, 5.100e+02],\n",
       "       [1.272e+01, 1.760e+00, 2.420e+00, 4.880e+02],\n",
       "       [1.222e+01, 2.040e+00, 3.020e+00, 3.120e+02],\n",
       "       [1.161e+01, 2.920e+00, 3.260e+00, 6.800e+02],\n",
       "       [1.146e+01, 2.580e+00, 2.810e+00, 5.620e+02],\n",
       "       [1.252e+01, 2.270e+00, 2.780e+00, 3.250e+02],\n",
       "       [1.176e+01, 2.030e+00, 2.500e+00, 6.070e+02],\n",
       "       [1.141e+01, 2.010e+00, 2.310e+00, 4.340e+02],\n",
       "       [1.208e+01, 2.290e+00, 3.190e+00, 3.850e+02],\n",
       "       [1.103e+01, 2.170e+00, 2.870e+00, 4.070e+02],\n",
       "       [1.182e+01, 1.600e+00, 3.330e+00, 4.950e+02],\n",
       "       [1.242e+01, 2.090e+00, 2.960e+00, 3.450e+02],\n",
       "       [1.277e+01, 1.250e+00, 2.120e+00, 3.720e+02],\n",
       "       [1.200e+01, 1.640e+00, 3.050e+00, 5.640e+02],\n",
       "       [1.145e+01, 2.790e+00, 3.390e+00, 6.250e+02],\n",
       "       [1.156e+01, 5.080e+00, 3.690e+00, 4.650e+02],\n",
       "       [1.242e+01, 2.130e+00, 3.120e+00, 3.650e+02],\n",
       "       [1.305e+01, 2.650e+00, 3.100e+00, 3.800e+02],\n",
       "       [1.187e+01, 3.030e+00, 3.640e+00, 3.800e+02],\n",
       "       [1.207e+01, 2.650e+00, 3.280e+00, 3.780e+02],\n",
       "       [1.243e+01, 3.150e+00, 2.840e+00, 3.520e+02],\n",
       "       [1.179e+01, 2.240e+00, 2.440e+00, 4.660e+02],\n",
       "       [1.237e+01, 2.450e+00, 2.780e+00, 3.420e+02],\n",
       "       [1.204e+01, 1.750e+00, 2.570e+00, 5.800e+02],\n",
       "       [1.286e+01, 1.250e+00, 1.290e+00, 6.300e+02],\n",
       "       [1.288e+01, 1.220e+00, 1.420e+00, 5.300e+02],\n",
       "       [1.281e+01, 1.090e+00, 1.360e+00, 5.600e+02],\n",
       "       [1.270e+01, 1.200e+00, 1.290e+00, 6.000e+02],\n",
       "       [1.251e+01, 5.800e-01, 1.510e+00, 6.500e+02],\n",
       "       [1.260e+01, 6.600e-01, 1.580e+00, 6.950e+02],\n",
       "       [1.225e+01, 4.700e-01, 1.270e+00, 7.200e+02],\n",
       "       [1.253e+01, 6.000e-01, 1.690e+00, 5.150e+02],\n",
       "       [1.349e+01, 4.800e-01, 1.820e+00, 5.800e+02],\n",
       "       [1.284e+01, 6.000e-01, 2.150e+00, 5.900e+02],\n",
       "       [1.293e+01, 5.000e-01, 2.310e+00, 6.000e+02],\n",
       "       [1.336e+01, 5.000e-01, 2.470e+00, 7.800e+02],\n",
       "       [1.352e+01, 5.200e-01, 2.060e+00, 5.200e+02],\n",
       "       [1.362e+01, 8.000e-01, 2.050e+00, 5.500e+02],\n",
       "       [1.225e+01, 7.800e-01, 2.000e+00, 8.550e+02],\n",
       "       [1.316e+01, 5.500e-01, 1.680e+00, 8.300e+02],\n",
       "       [1.388e+01, 3.400e-01, 1.330e+00, 4.150e+02],\n",
       "       [1.287e+01, 6.500e-01, 1.860e+00, 6.250e+02],\n",
       "       [1.332e+01, 7.600e-01, 1.620e+00, 6.500e+02],\n",
       "       [1.308e+01, 1.390e+00, 1.330e+00, 5.500e+02],\n",
       "       [1.350e+01, 1.570e+00, 1.300e+00, 5.000e+02],\n",
       "       [1.279e+01, 1.360e+00, 1.470e+00, 4.800e+02],\n",
       "       [1.311e+01, 1.280e+00, 1.330e+00, 4.250e+02],\n",
       "       [1.323e+01, 8.300e-01, 1.510e+00, 6.750e+02],\n",
       "       [1.258e+01, 5.800e-01, 1.550e+00, 6.400e+02],\n",
       "       [1.317e+01, 6.300e-01, 1.480e+00, 7.250e+02],\n",
       "       [1.384e+01, 8.300e-01, 1.640e+00, 4.800e+02],\n",
       "       [1.245e+01, 5.800e-01, 1.730e+00, 8.800e+02],\n",
       "       [1.434e+01, 1.310e+00, 1.960e+00, 6.600e+02],\n",
       "       [1.348e+01, 1.100e+00, 1.780e+00, 6.200e+02],\n",
       "       [1.236e+01, 9.200e-01, 1.580e+00, 5.200e+02],\n",
       "       [1.369e+01, 5.600e-01, 1.820e+00, 6.800e+02],\n",
       "       [1.285e+01, 6.000e-01, 2.110e+00, 5.700e+02],\n",
       "       [1.296e+01, 7.000e-01, 1.750e+00, 6.750e+02],\n",
       "       [1.378e+01, 6.800e-01, 1.680e+00, 6.150e+02],\n",
       "       [1.373e+01, 4.700e-01, 1.750e+00, 5.200e+02],\n",
       "       [1.345e+01, 9.200e-01, 1.560e+00, 6.950e+02],\n",
       "       [1.282e+01, 6.600e-01, 1.750e+00, 6.850e+02],\n",
       "       [1.358e+01, 8.400e-01, 1.800e+00, 7.500e+02],\n",
       "       [1.340e+01, 9.600e-01, 1.920e+00, 6.300e+02],\n",
       "       [1.220e+01, 4.900e-01, 1.830e+00, 5.100e+02],\n",
       "       [1.277e+01, 5.100e-01, 1.630e+00, 4.700e+02],\n",
       "       [1.416e+01, 7.000e-01, 1.710e+00, 6.600e+02],\n",
       "       [1.371e+01, 6.100e-01, 1.740e+00, 7.400e+02],\n",
       "       [1.340e+01, 7.500e-01, 1.560e+00, 7.500e+02],\n",
       "       [1.327e+01, 6.900e-01, 1.560e+00, 8.350e+02],\n",
       "       [1.317e+01, 6.800e-01, 1.620e+00, 8.400e+02],\n",
       "       [1.413e+01, 7.600e-01, 1.600e+00, 5.600e+02]])"
      ]
     },
     "execution_count": 31,
     "metadata": {},
     "output_type": "execute_result"
    }
   ],
   "source": [
    "Feature_best2=fsf.fit_transform(x,y)\n",
    "Feature_best2"
   ]
  },
  {
   "cell_type": "markdown",
   "id": "c8ce9068",
   "metadata": {},
   "source": [
    "#select 4best columns using feuturing section\n",
    "\n",
    "#columns=(Flavanoids,OD,Malic.acid,Hue)\n"
   ]
  },
  {
   "cell_type": "code",
   "execution_count": 32,
   "id": "98708283",
   "metadata": {},
   "outputs": [],
   "source": [
    "#using the voting method is hard for random forest\n",
    "\n",
    "from sklearn.ensemble import VotingClassifier, RandomForestClassifier\n",
    "from sklearn.tree import DecisionTreeClassifier\n",
    "from sklearn.linear_model import LogisticRegression\n",
    "from sklearn.neighbors import KNeighborsClassifier"
   ]
  },
  {
   "cell_type": "code",
   "execution_count": 33,
   "id": "aebcf7e3",
   "metadata": {},
   "outputs": [],
   "source": [
    "rf = RandomForestClassifier()\n",
    "dt = DecisionTreeClassifier()\n",
    "Lg = LogisticRegression()"
   ]
  },
  {
   "cell_type": "code",
   "execution_count": 34,
   "id": "1046fe41",
   "metadata": {},
   "outputs": [],
   "source": [
    "vc = VotingClassifier(estimators=[(\"rf\", rf), (\"dt\", dt), (\"Lg\", Lg)], voting=\"hard\")"
   ]
  },
  {
   "cell_type": "code",
   "execution_count": 35,
   "id": "b7852bb8",
   "metadata": {},
   "outputs": [
    {
     "name": "stderr",
     "output_type": "stream",
     "text": [
      "C:\\Users\\phani\\anaconda3\\lib\\site-packages\\sklearn\\linear_model\\_logistic.py:763: ConvergenceWarning: lbfgs failed to converge (status=1):\n",
      "STOP: TOTAL NO. of ITERATIONS REACHED LIMIT.\n",
      "\n",
      "Increase the number of iterations (max_iter) or scale the data as shown in:\n",
      "    https://scikit-learn.org/stable/modules/preprocessing.html\n",
      "Please also refer to the documentation for alternative solver options:\n",
      "    https://scikit-learn.org/stable/modules/linear_model.html#logistic-regression\n",
      "  n_iter_i = _check_optimize_result(\n"
     ]
    },
    {
     "data": {
      "text/plain": [
       "VotingClassifier(estimators=[('rf', RandomForestClassifier()),\n",
       "                             ('dt', DecisionTreeClassifier()),\n",
       "                             ('Lg', LogisticRegression())])"
      ]
     },
     "execution_count": 35,
     "metadata": {},
     "output_type": "execute_result"
    }
   ],
   "source": [
    "vc.fit(x_train,y_train)"
   ]
  },
  {
   "cell_type": "code",
   "execution_count": 37,
   "id": "29f35511",
   "metadata": {},
   "outputs": [],
   "source": [
    "y_predict=vc.predict(x_test)"
   ]
  },
  {
   "cell_type": "code",
   "execution_count": 39,
   "id": "1992b4b1",
   "metadata": {},
   "outputs": [
    {
     "name": "stdout",
     "output_type": "stream",
     "text": [
      "              precision    recall  f1-score   support\n",
      "\n",
      "           1       0.96      1.00      0.98        22\n",
      "           2       1.00      0.95      0.97        20\n",
      "           3       1.00      1.00      1.00        12\n",
      "\n",
      "    accuracy                           0.98        54\n",
      "   macro avg       0.99      0.98      0.98        54\n",
      "weighted avg       0.98      0.98      0.98        54\n",
      "\n"
     ]
    }
   ],
   "source": [
    "from sklearn.metrics import classification_report\n",
    "print(classification_report(y_predict,y_test))"
   ]
  },
  {
   "cell_type": "markdown",
   "id": "efe9573e",
   "metadata": {},
   "source": [
    "#creating the soft method for random forest"
   ]
  },
  {
   "cell_type": "code",
   "execution_count": 41,
   "id": "67637161",
   "metadata": {},
   "outputs": [],
   "source": [
    "vc = VotingClassifier(estimators=[(\"rf\", rf), (\"dt\", dt), (\"Lg\", Lg)], voting=\"soft\",weights=[.4,.3,.4])"
   ]
  },
  {
   "cell_type": "code",
   "execution_count": 42,
   "id": "e66017ad",
   "metadata": {},
   "outputs": [
    {
     "name": "stderr",
     "output_type": "stream",
     "text": [
      "C:\\Users\\phani\\anaconda3\\lib\\site-packages\\sklearn\\linear_model\\_logistic.py:763: ConvergenceWarning: lbfgs failed to converge (status=1):\n",
      "STOP: TOTAL NO. of ITERATIONS REACHED LIMIT.\n",
      "\n",
      "Increase the number of iterations (max_iter) or scale the data as shown in:\n",
      "    https://scikit-learn.org/stable/modules/preprocessing.html\n",
      "Please also refer to the documentation for alternative solver options:\n",
      "    https://scikit-learn.org/stable/modules/linear_model.html#logistic-regression\n",
      "  n_iter_i = _check_optimize_result(\n"
     ]
    },
    {
     "data": {
      "text/plain": [
       "VotingClassifier(estimators=[('rf', RandomForestClassifier()),\n",
       "                             ('dt', DecisionTreeClassifier()),\n",
       "                             ('Lg', LogisticRegression())],\n",
       "                 voting='soft', weights=[0.4, 0.3, 0.4])"
      ]
     },
     "execution_count": 42,
     "metadata": {},
     "output_type": "execute_result"
    }
   ],
   "source": [
    "vc.fit(x_train,y_train)"
   ]
  },
  {
   "cell_type": "code",
   "execution_count": 43,
   "id": "13e0be89",
   "metadata": {},
   "outputs": [],
   "source": [
    "y_pred=vc.predict(x_test)"
   ]
  },
  {
   "cell_type": "code",
   "execution_count": 44,
   "id": "1f3874d1",
   "metadata": {},
   "outputs": [
    {
     "name": "stdout",
     "output_type": "stream",
     "text": [
      "              precision    recall  f1-score   support\n",
      "\n",
      "           1       0.96      0.96      0.96        23\n",
      "           2       0.95      0.95      0.95        19\n",
      "           3       1.00      1.00      1.00        12\n",
      "\n",
      "    accuracy                           0.96        54\n",
      "   macro avg       0.97      0.97      0.97        54\n",
      "weighted avg       0.96      0.96      0.96        54\n",
      "\n"
     ]
    }
   ],
   "source": [
    "print(classification_report(y_pred,y_test))"
   ]
  },
  {
   "cell_type": "code",
   "execution_count": null,
   "id": "f0d2465d",
   "metadata": {},
   "outputs": [],
   "source": []
  }
 ],
 "metadata": {
  "kernelspec": {
   "display_name": "Python 3 (ipykernel)",
   "language": "python",
   "name": "python3"
  },
  "language_info": {
   "codemirror_mode": {
    "name": "ipython",
    "version": 3
   },
   "file_extension": ".py",
   "mimetype": "text/x-python",
   "name": "python",
   "nbconvert_exporter": "python",
   "pygments_lexer": "ipython3",
   "version": "3.10.3"
  }
 },
 "nbformat": 4,
 "nbformat_minor": 5
}
